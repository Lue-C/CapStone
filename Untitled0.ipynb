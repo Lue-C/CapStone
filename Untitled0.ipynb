{
  "nbformat": 4,
  "nbformat_minor": 0,
  "metadata": {
    "colab": {
      "name": "Untitled0.ipynb",
      "provenance": [],
      "authorship_tag": "ABX9TyPOEFsz6nCQBg94J9PyryaY",
      "include_colab_link": true
    },
    "kernelspec": {
      "name": "python3",
      "display_name": "Python 3"
    },
    "language_info": {
      "name": "python"
    },
    "accelerator": "GPU"
  },
  "cells": [
    {
      "cell_type": "markdown",
      "metadata": {
        "id": "view-in-github",
        "colab_type": "text"
      },
      "source": [
        "<a href=\"https://colab.research.google.com/github/Lue-C/CapStone/blob/haritha/Untitled0.ipynb\" target=\"_parent\"><img src=\"https://colab.research.google.com/assets/colab-badge.svg\" alt=\"Open In Colab\"/></a>"
      ]
    },
    {
      "cell_type": "markdown",
      "source": [
        "Importing the drive to the colab environment"
      ],
      "metadata": {
        "id": "9qaZZalaJnyq"
      }
    },
    {
      "cell_type": "code",
      "execution_count": 2,
      "metadata": {
        "colab": {
          "base_uri": "https://localhost:8080/"
        },
        "id": "bpEBuleG-170",
        "outputId": "ef8b818d-b0d1-4c28-8cbf-5c287b87db44"
      },
      "outputs": [
        {
          "output_type": "stream",
          "name": "stdout",
          "text": [
            "Drive already mounted at /content/drive; to attempt to forcibly remount, call drive.mount(\"/content/drive\", force_remount=True).\n"
          ]
        }
      ],
      "source": [
        "from google.colab import drive\n",
        "drive.mount('/content/drive')"
      ]
    },
    {
      "cell_type": "markdown",
      "source": [
        "Import all packages"
      ],
      "metadata": {
        "id": "jIgXcG7fJRcb"
      }
    },
    {
      "cell_type": "code",
      "source": [
        "import numpy as np\n",
        "import pandas as pd\n",
        "import matplotlib.pyplot as plt\n",
        "import seaborn as sns\n",
        "from matplotlib import rcParams\n",
        "from sklearn.linear_model import LinearRegression\n",
        "from sklearn.metrics import mean_absolute_error, mean_squared_error\n",
        "from sklearn.preprocessing import StandardScaler, MinMaxScaler\n",
        "from sklearn.model_selection import train_test_split\n",
        "import datetime, time, os\n",
        "from tensorflow.keras.models import Sequential\n",
        "from tensorflow.keras.layers import LSTM\n",
        "from tensorflow.keras.layers import Dense, Dropout\n",
        "import seaborn as sns\n",
        "import tensorflow as tf\n",
        "from tensorflow import keras\n",
        "from tensorflow.keras import layers\n",
        "from tensorflow.keras.layers.experimental import preprocessing\n",
        "#from datetime import datetime\n",
        "from sklearn import metrics # for the evalution\n",
        "import warnings\n",
        "warnings.filterwarnings(\"ignore\")\n",
        "RSEED=42\n",
        "tf.random.set_seed(42)\n",
        "np.random.seed(42)"
      ],
      "metadata": {
        "id": "u6NRnHyVJQlh"
      },
      "execution_count": 10,
      "outputs": []
    },
    {
      "cell_type": "markdown",
      "source": [
        "Importing data"
      ],
      "metadata": {
        "id": "WIzE0O3FM-Gg"
      }
    },
    {
      "cell_type": "code",
      "source": [
        "df = pd.read_csv('/content/drive/MyDrive/Capstone_data/train.csv')\n",
        "more_var = pd.read_csv('/content/drive/MyDrive/Capstone_data/utms.csv')"
      ],
      "metadata": {
        "id": "7bQHl08MM46D"
      },
      "execution_count": 11,
      "outputs": []
    },
    {
      "cell_type": "markdown",
      "source": [
        "Feature engineering"
      ],
      "metadata": {
        "id": "bsGcNqttNa8r"
      }
    },
    {
      "cell_type": "code",
      "source": [
        "df = df.query('breath_id <= 20')\n",
        "df['vol'] = df['time_step'] * df['u_in']\n",
        "df['vol'] = df.query('u_out==0').groupby('breath_id')['vol'].cumsum()\n",
        "df['rtime']=df['time_step'].apply(lambda x: round(x,3))\n",
        "df.query('id%80==2')\n",
        "df['step_id']=df.id.apply(lambda x: x%80)\n",
        "df=df.query('u_out==0')\n",
        "df['u_in_cumsum'] = (df['u_in']).groupby(df['breath_id']).cumsum()\n",
        "df['minus_one']=-1.0\n",
        "df['plus_one']=1.0\n",
        "df['exponent']=(df['minus_one']*df['time_step'])/(df['R']*df['C'])\n",
        "df['factor']=np.exp(df['exponent'])\n",
        "df['vf']=(df['u_in_cumsum']*df['R'])/df['factor']\n",
        "df['vt']=0\n",
        "df.loc[df['time_step'] != 0, 'vt']=df['vol']/(df['C']*(df['minus_one']*df['factor']+df['plus_one']))\n",
        "df['v']=df['vf']+df['vt']"
      ],
      "metadata": {
        "id": "f2c9nLThNRBM"
      },
      "execution_count": 12,
      "outputs": []
    },
    {
      "cell_type": "code",
      "source": [
        ""
      ],
      "metadata": {
        "id": "uWORoKtCNyxM"
      },
      "execution_count": null,
      "outputs": []
    }
  ]
}