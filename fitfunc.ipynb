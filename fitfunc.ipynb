{
 "cells": [
  {
   "cell_type": "code",
   "execution_count": 3,
   "metadata": {},
   "outputs": [],
   "source": [
    "import numpy as np\n",
    "import pandas as pd\n",
    "import seaborn as sns\n",
    "import matplotlib.pyplot as plt\n",
    "from sklearn.linear_model import LinearRegression\n",
    "from sklearn.metrics import mean_absolute_error\n",
    "from statsmodels.tsa.seasonal import seasonal_decompose\n",
    "from scipy import fftpack\n",
    "from sklearn.preprocessing import StandardScaler\n",
    "from scipy.optimize import curve_fit\n",
    "from tqdm import tqdm\n",
    "from scipy.optimize import differential_evolution\n",
    "\n",
    "RSEED=42"
   ]
  },
  {
   "cell_type": "code",
   "execution_count": 15,
   "metadata": {},
   "outputs": [],
   "source": [
    "df = pd.read_csv('data/train.csv')"
   ]
  },
  {
   "cell_type": "code",
   "execution_count": 137,
   "metadata": {},
   "outputs": [
    {
     "data": {
      "text/html": [
       "<div>\n",
       "<style scoped>\n",
       "    .dataframe tbody tr th:only-of-type {\n",
       "        vertical-align: middle;\n",
       "    }\n",
       "\n",
       "    .dataframe tbody tr th {\n",
       "        vertical-align: top;\n",
       "    }\n",
       "\n",
       "    .dataframe thead th {\n",
       "        text-align: right;\n",
       "    }\n",
       "</style>\n",
       "<table border=\"1\" class=\"dataframe\">\n",
       "  <thead>\n",
       "    <tr style=\"text-align: right;\">\n",
       "      <th></th>\n",
       "      <th>id</th>\n",
       "      <th>breath_id</th>\n",
       "      <th>R</th>\n",
       "      <th>C</th>\n",
       "      <th>time_step</th>\n",
       "      <th>u_in</th>\n",
       "      <th>u_out</th>\n",
       "      <th>pressure</th>\n",
       "    </tr>\n",
       "  </thead>\n",
       "  <tbody>\n",
       "  </tbody>\n",
       "</table>\n",
       "</div>"
      ],
      "text/plain": [
       "Empty DataFrame\n",
       "Columns: [id, breath_id, R, C, time_step, u_in, u_out, pressure]\n",
       "Index: []"
      ]
     },
     "execution_count": 137,
     "metadata": {},
     "output_type": "execute_result"
    }
   ],
   "source": [
    "df.query('breath_id==8')"
   ]
  },
  {
   "cell_type": "code",
   "execution_count": 5,
   "metadata": {},
   "outputs": [],
   "source": [
    "new_feats=pd.read_csv('utms.csv')"
   ]
  },
  {
   "cell_type": "code",
   "execution_count": 6,
   "metadata": {},
   "outputs": [],
   "source": [
    "df = df.merge(new_feats, on='id')"
   ]
  },
  {
   "cell_type": "code",
   "execution_count": 7,
   "metadata": {},
   "outputs": [],
   "source": [
    "# Feature \n",
    "df['vol'] = df['time_step'] * df['u_in']\n",
    "df['vol'] = df.query('u_out==0').groupby('breath_id')['vol'].cumsum()\n",
    "df['rtime']=df['time_step'].apply(lambda x: round(x,3))\n",
    "df['u_in_cumsum'] = (df['u_in']).groupby(df['breath_id']).cumsum()\n",
    "df['minus_one']=-1.0\n",
    "df['plus_one']=1.0\n",
    "df['exponent']=(df['minus_one']*df['time_step'])/(df['R']*df['C'])\n",
    "df['factor']=np.exp(df['exponent'])\n",
    "df['vf']=(df['u_in_cumsum']*df['R'])/df['factor']\n",
    "df['vt']=0\n",
    "df.loc[df['time_step'] != 0, 'vt']=df['vol']/(df['C']*(df['minus_one']*df['factor']+df['plus_one']))\n",
    "df['v']=df['vf']+df['vt']\n",
    "df['step_id']=df.id.apply(lambda x: x%80)\n",
    "\n",
    "#df=df.query('u_out==0')\n",
    "df=df.drop(['minus_one', 'plus_one', 'exponent', 'factor', 'step_id', 'u_out'], axis=1)\n",
    "\n",
    "#cols=['v','u_in_cumsum','vol','pressure', 'u_in', 'R', 'C', 'time_step',\"step_id\"]\n",
    "#red_df=df[cols]\n",
    "#red_df=pd.get_dummies(data=df, columns=['R','C', 'step_id'],drop_first=True)"
   ]
  },
  {
   "cell_type": "code",
   "execution_count": 141,
   "metadata": {},
   "outputs": [
    {
     "data": {
      "text/plain": [
       "75450"
      ]
     },
     "execution_count": 141,
     "metadata": {},
     "output_type": "execute_result"
    }
   ],
   "source": [
    "df.breath_id.nunique()"
   ]
  },
  {
   "cell_type": "code",
   "execution_count": 153,
   "metadata": {},
   "outputs": [
    {
     "name": "stderr",
     "output_type": "stream",
     "text": [
      "100%|██████████| 1000/1000 [07:07<00:00,  2.34it/s]\n"
     ]
    }
   ],
   "source": [
    "def objective_loop(x,a,b):\n",
    "    return a*x+b\n",
    "\n",
    "def objective(x,a,b,c,d,e,f,g,h):\n",
    "    #return (-c+a*np.sin(h*x**2))*(e+f*np.sin((50*d*np.pi*x)/(b)))+g\n",
    "    #return (-a+b*np.sin(c*x**2+d))*(e+f*np.sin(g*x+h))+j\n",
    "    return a*np.exp(b*x)*np.sin(c*x+d) + e*np.sin(f*x+g) + h\n",
    "    #return a*x*np.heaviside(x-b)+c*x*np.heaviside(x-d)\n",
    "\n",
    "def objective_CK(x,a,b,c,d,e,f,g,h,j):\n",
    "    #return (-c+a*np.sin(h*x**2))*(e+f*np.sin((50*d*np.pi*x)/(b)))+g\n",
    "    return (-a+b*np.sin(c*x**2+d))*(e+f*np.sin(g*x+h))+j\n",
    "\n",
    "\n",
    "# create empty df for appending\n",
    "df_test=df[['u_in', 'time_step', 'breath_id']]\n",
    "bad_list = []\n",
    "array_sub=df_test.breath_id.unique()\n",
    "\n",
    "#for i in tqdm(range(len(array_sub))):\n",
    "for i in tqdm(range(0,1000)):\n",
    "    try:\n",
    "        #############################\n",
    "        ####  u_in curve fitting ####\n",
    "        #############################\n",
    "        \n",
    "        breath = df_test[df_test['breath_id']==array_sub[i]][['time_step', 'u_in']]\n",
    "        #print(breath.head())\n",
    "        #df_temp=df_test.query('breath_id==b_ind') # <- pull out single breaths from df (full data) or query for smaller subset\n",
    "\n",
    "        #y_train=breath.u_in\n",
    "        #x_train=breath.time_step\n",
    "        #print(x_train, y_train)\n",
    "\n",
    "        popt, _ = curve_fit(objective, breath.time_step, breath.u_in, p0=[ 12.752477  ,  -0.67085112,   5.41190447,  -0.48596679, 3.86219028, -10.43610426,   8.54696684,  26.1692981 ])\n",
    "        #a,b,c,d,e,f,g,h,j = popt\n",
    "        #print(a,b,c,d,e,f,g,h) # to print all the \n",
    "\n",
    "        #x_test=np.array(np.linspace(0,1,len(y_train)))\n",
    "        #y_pred = objective(x_test,a,b,c,d,e,f,g,h)\n",
    "        #mae1=mean_absolute_error(y_train, y_pred).round(3)\n",
    "\n",
    "        # for plotting\n",
    "        # plt.plot(x_train,y_train,c=\"blue\",label=\"true\")\n",
    "        #plt.plot(x_test,y_pred,c=\"red\",label=\"predicted\")\n",
    "        #plt.legend()\n",
    "        #print(\"MAE: \",mean_absolute_error(y_train, y_pred).round(3))\n",
    "\n",
    "        ########################################################\n",
    "        ####  seasonality decomposition/period optimization ####\n",
    "        ########################################################\n",
    "        #mae_list=[]\n",
    "        #a_list=[]\n",
    "        #b_list=[]\n",
    "        #for j in range(1,15): #loop to find period with most linear trend (according to MAE score)\n",
    "        #    seas=seasonal_decompose(x=df_temp.u_in+1,model=\"multiplicative\",period=j, two_sided=True)\n",
    "        #    tren=seas.trend.dropna()\n",
    "        #    x_train=tren.index.to_list()\n",
    "        #    y_train=tren.to_list()\n",
    "\n",
    "        #    popt, _ = curve_fit(objective_loop, x_train, y_train)\n",
    "        #    k,l = popt\n",
    "        #    x_test=np.array(np.linspace(min(x_train),max(x_train),len(y_train)))\n",
    "        #    y_pred = objective_loop(x_test,k,l)\n",
    "        #    mae_list.append(mean_absolute_error(y_train, y_pred).round(3))\n",
    "        #    a_list.append(k)\n",
    "        #    b_list.append(l)\n",
    "        #df_test.loc[len(df_test)] = [a,b,c,d,e,f,g,h,ii,mae1,np.min(mae_list),np.argmin(mae_list)+1,a_list[np.argmin(mae_list)],b_list[np.argmin(mae_list)]]\n",
    "    except Exception:\n",
    "        bad_list.append(i)\n",
    "        #break"
   ]
  },
  {
   "cell_type": "code",
   "execution_count": 154,
   "metadata": {},
   "outputs": [
    {
     "name": "stdout",
     "output_type": "stream",
     "text": [
      "438 75450\n"
     ]
    }
   ],
   "source": [
    "print(len(bad_list), df.breath_id.nunique())"
   ]
  },
  {
   "cell_type": "code",
   "execution_count": 155,
   "metadata": {},
   "outputs": [
    {
     "data": {
      "text/plain": [
       "[1, 6, 8, 9, 10]"
      ]
     },
     "execution_count": 155,
     "metadata": {},
     "output_type": "execute_result"
    }
   ],
   "source": [
    "bad_list[:5]"
   ]
  },
  {
   "cell_type": "code",
   "execution_count": null,
   "metadata": {},
   "outputs": [],
   "source": [
    "def objective(x,a,b,c,d,e,f,g,h):\n",
    "    #return (-c+a*np.sin(h*x**2))*(e+f*np.sin((50*d*np.pi*x)/(b)))+g\n",
    "    #return (-a+b*np.sin(c*x**2+d))*(e+f*np.sin(g*x+h))+j\n",
    "    return a*np.exp(b*x)*np.sin(c*x+d) + e*np.sin(f*x+g) + h"
   ]
  },
  {
   "cell_type": "code",
   "execution_count": 161,
   "metadata": {},
   "outputs": [],
   "source": [
    "b1=df.query('breath_id==2')[['u_in', 'time_step']]\n",
    "popt, _ = curve_fit(objective, b1.time_step, b1.u_in, maxfev=5000)#, p0=[ 12.752477  ,  -0.67085112,   5.41190447,  -0.48596679, 3.86219028, -10.43610426,   8.54696684,  26.1692981 ])"
   ]
  },
  {
   "cell_type": "code",
   "execution_count": 162,
   "metadata": {},
   "outputs": [
    {
     "data": {
      "text/plain": [
       "[<matplotlib.lines.Line2D at 0x12c5404f0>]"
      ]
     },
     "execution_count": 162,
     "metadata": {},
     "output_type": "execute_result"
    },
    {
     "data": {
      "image/png": "[encoded data removed]",
      "text/plain": [
       "<Figure size 432x288 with 1 Axes>"
      ]
     },
     "metadata": {
      "needs_background": "light"
     },
     "output_type": "display_data"
    }
   ],
   "source": [
    "fig=plt.figure()\n",
    "plt.plot(b1.time_step, objective(b1.time_step, popt[0], popt[1], popt[2], popt[3], popt[4], popt[5], popt[6], popt[7]), 'b')\n",
    "plt.plot(b1.time_step,b1.u_in,'b--')"
   ]
  },
  {
   "cell_type": "code",
   "execution_count": 184,
   "metadata": {},
   "outputs": [
    {
     "data": {
      "text/plain": [
       "[<matplotlib.lines.Line2D at 0x128bbd310>]"
      ]
     },
     "execution_count": 184,
     "metadata": {},
     "output_type": "execute_result"
    },
    {
     "data": {
      "image/png": "[encoded data removed]",
      "text/plain": [
       "<Figure size 432x288 with 1 Axes>"
      ]
     },
     "metadata": {
      "needs_background": "light"
     },
     "output_type": "display_data"
    }
   ],
   "source": [
    "b1=df.query('breath_id==2')[['u_in', 'time_step']]\n",
    "\n",
    "fig=plt.figure()\n",
    "#plt.plot(b1.time_step, objective(b1.time_step, popt[0], popt[1], popt[2], popt[3], popt[4], popt[5], popt[6], popt[7]), 'b')\n",
    "plt.plot(b1.time_step,b1.u_in,'b--')"
   ]
  },
  {
   "cell_type": "code",
   "execution_count": 166,
   "metadata": {},
   "outputs": [],
   "source": [
    "def objective_cube(params):\n",
    "    a,b,c,d,e,f,g,h = params\n",
    "    return a*np.exp(b*b1.u_in)*np.sin(c*b1.u_in+d) + e*np.sin(f*b1.u_in+g) + h"
   ]
  },
  {
   "cell_type": "code",
   "execution_count": 167,
   "metadata": {},
   "outputs": [
    {
     "ename": "RuntimeError",
     "evalue": "func(x, *args) must return a scalar value",
     "output_type": "error",
     "traceback": [
      "\u001b[0;31m---------------------------------------------------------------------------\u001b[0m",
      "\u001b[0;31mRuntimeError\u001b[0m                              Traceback (most recent call last)",
      "\u001b[1;32m/Users/martin/Projects/CapStone/fitfunc.ipynb Cell 16'\u001b[0m in \u001b[0;36m<cell line: 2>\u001b[0;34m()\u001b[0m\n\u001b[1;32m      <a href='vscode-notebook-cell:/Users/martin/Projects/CapStone/fitfunc.ipynb#ch0000025?line=0'>1</a>\u001b[0m bounds \u001b[39m=\u001b[39m [(\u001b[39m0\u001b[39m,\u001b[39m20\u001b[39m), (\u001b[39m0\u001b[39m, \u001b[39m2\u001b[39m), (\u001b[39m0\u001b[39m, \u001b[39m2\u001b[39m), (\u001b[39m0\u001b[39m, np\u001b[39m.\u001b[39mpi), (\u001b[39m0\u001b[39m, \u001b[39m2\u001b[39m), (\u001b[39m0\u001b[39m,\u001b[39m2\u001b[39m), (\u001b[39m0\u001b[39m,np\u001b[39m.\u001b[39mpi), (\u001b[39m0\u001b[39m,\u001b[39m2\u001b[39m)]\n\u001b[0;32m----> <a href='vscode-notebook-cell:/Users/martin/Projects/CapStone/fitfunc.ipynb#ch0000025?line=1'>2</a>\u001b[0m result \u001b[39m=\u001b[39m differential_evolution(objective_cube, bounds)\n",
      "File \u001b[0;32m~/Projects/CapStone/.venv/lib/python3.9/site-packages/scipy/optimize/_differentialevolution.py:329\u001b[0m, in \u001b[0;36mdifferential_evolution\u001b[0;34m(func, bounds, args, strategy, maxiter, popsize, tol, mutation, recombination, seed, callback, disp, polish, init, atol, updating, workers, constraints, x0)\u001b[0m\n\u001b[1;32m    <a href='file:///Users/martin/Projects/CapStone/.venv/lib/python3.9/site-packages/scipy/optimize/_differentialevolution.py?line=313'>314</a>\u001b[0m \u001b[39m# using a context manager means that any created Pool objects are\u001b[39;00m\n\u001b[1;32m    <a href='file:///Users/martin/Projects/CapStone/.venv/lib/python3.9/site-packages/scipy/optimize/_differentialevolution.py?line=314'>315</a>\u001b[0m \u001b[39m# cleared up.\u001b[39;00m\n\u001b[1;32m    <a href='file:///Users/martin/Projects/CapStone/.venv/lib/python3.9/site-packages/scipy/optimize/_differentialevolution.py?line=315'>316</a>\u001b[0m \u001b[39mwith\u001b[39;00m DifferentialEvolutionSolver(func, bounds, args\u001b[39m=\u001b[39margs,\n\u001b[1;32m    <a href='file:///Users/martin/Projects/CapStone/.venv/lib/python3.9/site-packages/scipy/optimize/_differentialevolution.py?line=316'>317</a>\u001b[0m                                  strategy\u001b[39m=\u001b[39mstrategy,\n\u001b[1;32m    <a href='file:///Users/martin/Projects/CapStone/.venv/lib/python3.9/site-packages/scipy/optimize/_differentialevolution.py?line=317'>318</a>\u001b[0m                                  maxiter\u001b[39m=\u001b[39mmaxiter,\n\u001b[0;32m   (...)\u001b[0m\n\u001b[1;32m    <a href='file:///Users/martin/Projects/CapStone/.venv/lib/python3.9/site-packages/scipy/optimize/_differentialevolution.py?line=326'>327</a>\u001b[0m                                  constraints\u001b[39m=\u001b[39mconstraints,\n\u001b[1;32m    <a href='file:///Users/martin/Projects/CapStone/.venv/lib/python3.9/site-packages/scipy/optimize/_differentialevolution.py?line=327'>328</a>\u001b[0m                                  x0\u001b[39m=\u001b[39mx0) \u001b[39mas\u001b[39;00m solver:\n\u001b[0;32m--> <a href='file:///Users/martin/Projects/CapStone/.venv/lib/python3.9/site-packages/scipy/optimize/_differentialevolution.py?line=328'>329</a>\u001b[0m     ret \u001b[39m=\u001b[39m solver\u001b[39m.\u001b[39;49msolve()\n\u001b[1;32m    <a href='file:///Users/martin/Projects/CapStone/.venv/lib/python3.9/site-packages/scipy/optimize/_differentialevolution.py?line=330'>331</a>\u001b[0m \u001b[39mreturn\u001b[39;00m ret\n",
      "File \u001b[0;32m~/Projects/CapStone/.venv/lib/python3.9/site-packages/scipy/optimize/_differentialevolution.py:843\u001b[0m, in \u001b[0;36mDifferentialEvolutionSolver.solve\u001b[0;34m(self)\u001b[0m\n\u001b[1;32m    <a href='file:///Users/martin/Projects/CapStone/.venv/lib/python3.9/site-packages/scipy/optimize/_differentialevolution.py?line=837'>838</a>\u001b[0m     \u001b[39mself\u001b[39m\u001b[39m.\u001b[39mfeasible, \u001b[39mself\u001b[39m\u001b[39m.\u001b[39mconstraint_violation \u001b[39m=\u001b[39m (\n\u001b[1;32m    <a href='file:///Users/martin/Projects/CapStone/.venv/lib/python3.9/site-packages/scipy/optimize/_differentialevolution.py?line=838'>839</a>\u001b[0m         \u001b[39mself\u001b[39m\u001b[39m.\u001b[39m_calculate_population_feasibilities(\u001b[39mself\u001b[39m\u001b[39m.\u001b[39mpopulation))\n\u001b[1;32m    <a href='file:///Users/martin/Projects/CapStone/.venv/lib/python3.9/site-packages/scipy/optimize/_differentialevolution.py?line=840'>841</a>\u001b[0m     \u001b[39m# only work out population energies for feasible solutions\u001b[39;00m\n\u001b[1;32m    <a href='file:///Users/martin/Projects/CapStone/.venv/lib/python3.9/site-packages/scipy/optimize/_differentialevolution.py?line=841'>842</a>\u001b[0m     \u001b[39mself\u001b[39m\u001b[39m.\u001b[39mpopulation_energies[\u001b[39mself\u001b[39m\u001b[39m.\u001b[39mfeasible] \u001b[39m=\u001b[39m (\n\u001b[0;32m--> <a href='file:///Users/martin/Projects/CapStone/.venv/lib/python3.9/site-packages/scipy/optimize/_differentialevolution.py?line=842'>843</a>\u001b[0m         \u001b[39mself\u001b[39;49m\u001b[39m.\u001b[39;49m_calculate_population_energies(\n\u001b[1;32m    <a href='file:///Users/martin/Projects/CapStone/.venv/lib/python3.9/site-packages/scipy/optimize/_differentialevolution.py?line=843'>844</a>\u001b[0m             \u001b[39mself\u001b[39;49m\u001b[39m.\u001b[39;49mpopulation[\u001b[39mself\u001b[39;49m\u001b[39m.\u001b[39;49mfeasible]))\n\u001b[1;32m    <a href='file:///Users/martin/Projects/CapStone/.venv/lib/python3.9/site-packages/scipy/optimize/_differentialevolution.py?line=845'>846</a>\u001b[0m     \u001b[39mself\u001b[39m\u001b[39m.\u001b[39m_promote_lowest_energy()\n\u001b[1;32m    <a href='file:///Users/martin/Projects/CapStone/.venv/lib/python3.9/site-packages/scipy/optimize/_differentialevolution.py?line=847'>848</a>\u001b[0m \u001b[39m# do the optimization.\u001b[39;00m\n",
      "File \u001b[0;32m~/Projects/CapStone/.venv/lib/python3.9/site-packages/scipy/optimize/_differentialevolution.py:980\u001b[0m, in \u001b[0;36mDifferentialEvolutionSolver._calculate_population_energies\u001b[0;34m(self, population)\u001b[0m\n\u001b[1;32m    <a href='file:///Users/martin/Projects/CapStone/.venv/lib/python3.9/site-packages/scipy/optimize/_differentialevolution.py?line=973'>974</a>\u001b[0m     \u001b[39mraise\u001b[39;00m \u001b[39mRuntimeError\u001b[39;00m(\n\u001b[1;32m    <a href='file:///Users/martin/Projects/CapStone/.venv/lib/python3.9/site-packages/scipy/optimize/_differentialevolution.py?line=974'>975</a>\u001b[0m         \u001b[39m\"\u001b[39m\u001b[39mThe map-like callable must be of the form f(func, iterable), \u001b[39m\u001b[39m\"\u001b[39m\n\u001b[1;32m    <a href='file:///Users/martin/Projects/CapStone/.venv/lib/python3.9/site-packages/scipy/optimize/_differentialevolution.py?line=975'>976</a>\u001b[0m         \u001b[39m\"\u001b[39m\u001b[39mreturning a sequence of numbers the same length as \u001b[39m\u001b[39m'\u001b[39m\u001b[39miterable\u001b[39m\u001b[39m'\u001b[39m\u001b[39m\"\u001b[39m\n\u001b[1;32m    <a href='file:///Users/martin/Projects/CapStone/.venv/lib/python3.9/site-packages/scipy/optimize/_differentialevolution.py?line=976'>977</a>\u001b[0m     ) \u001b[39mfrom\u001b[39;00m \u001b[39me\u001b[39;00m\n\u001b[1;32m    <a href='file:///Users/martin/Projects/CapStone/.venv/lib/python3.9/site-packages/scipy/optimize/_differentialevolution.py?line=978'>979</a>\u001b[0m \u001b[39mif\u001b[39;00m calc_energies\u001b[39m.\u001b[39msize \u001b[39m!=\u001b[39m nfevs:\n\u001b[0;32m--> <a href='file:///Users/martin/Projects/CapStone/.venv/lib/python3.9/site-packages/scipy/optimize/_differentialevolution.py?line=979'>980</a>\u001b[0m     \u001b[39mraise\u001b[39;00m \u001b[39mRuntimeError\u001b[39;00m(\u001b[39m\"\u001b[39m\u001b[39mfunc(x, *args) must return a scalar value\u001b[39m\u001b[39m\"\u001b[39m)\n\u001b[1;32m    <a href='file:///Users/martin/Projects/CapStone/.venv/lib/python3.9/site-packages/scipy/optimize/_differentialevolution.py?line=981'>982</a>\u001b[0m energies[\u001b[39m0\u001b[39m:nfevs] \u001b[39m=\u001b[39m calc_energies\n\u001b[1;32m    <a href='file:///Users/martin/Projects/CapStone/.venv/lib/python3.9/site-packages/scipy/optimize/_differentialevolution.py?line=983'>984</a>\u001b[0m \u001b[39mself\u001b[39m\u001b[39m.\u001b[39m_nfev \u001b[39m+\u001b[39m\u001b[39m=\u001b[39m nfevs\n",
      "\u001b[0;31mRuntimeError\u001b[0m: func(x, *args) must return a scalar value"
     ]
    }
   ],
   "source": [
    "bounds = [(0,20), (0, 2), (0, 2), (0, np.pi), (0, 2), (0,2), (0,np.pi), (0,2)]\n",
    "result = differential_evolution(objective_cube, bounds)"
   ]
  },
  {
   "cell_type": "code",
   "execution_count": 165,
   "metadata": {},
   "outputs": [
    {
     "data": {
      "text/plain": [
       "(array([0., 0.]), 4.440892098500626e-16)"
      ]
     },
     "execution_count": 165,
     "metadata": {},
     "output_type": "execute_result"
    }
   ],
   "source": [
    "def ackley(x):\n",
    "     arg1 = -0.2 * np.sqrt(0.5 * (x[0] ** 2 + x[1] ** 2))\n",
    "     arg2 = 0.5 * (np.cos(2. * np.pi * x[0]) + np.cos(2. * np.pi * x[1]))\n",
    "     return -20. * np.exp(arg1) - np.exp(arg2) + 20. + np.e\n",
    "bounds = [(-5, 5), (-5, 5)]\n",
    "result = differential_evolution(ackley, bounds)\n",
    "result.x, result.fun"
   ]
  },
  {
   "cell_type": "code",
   "execution_count": null,
   "metadata": {},
   "outputs": [],
   "source": [
    "for p_set in pgrid:\n",
    "    try:\n",
    "        bla\n",
    "    except Exception:\n",
    "        blub"
   ]
  },
  {
   "cell_type": "code",
   "execution_count": 178,
   "metadata": {},
   "outputs": [],
   "source": [
    "v1=5\n",
    "\n",
    "for i in range(6):\n",
    "    try:\n",
    "        v1==i\n",
    "    except:\n",
    "        print('bla')"
   ]
  },
  {
   "cell_type": "code",
   "execution_count": 251,
   "metadata": {},
   "outputs": [
    {
     "name": "stderr",
     "output_type": "stream",
     "text": [
      "100%|██████████| 10000/10000 [3:18:45<00:00,  1.19s/it] \n"
     ]
    }
   ],
   "source": [
    "def objective_loop(x,a,b):\n",
    "    return a*x+b\n",
    "\n",
    "def objective(x,a,b,c,d,e,f,g,h):\n",
    "    #return (-c+a*np.sin(h*x**2))*(e+f*np.sin((50*d*np.pi*x)/(b)))+g\n",
    "    #return (-a+b*np.sin(c*x**2+d))*(e+f*np.sin(g*x+h))+j\n",
    "    return a*np.exp(b*x)*np.sin(c*x+d) + e*np.sin(f*x+g) + h\n",
    "\n",
    "\n",
    "# create empty df for appending\n",
    "df_test=df[['u_in', 'time_step', 'breath_id']]\n",
    "bad_list = []\n",
    "array_sub=df_test.breath_id.unique()\n",
    "\n",
    "param_grid=[]\n",
    "param_grid.append([ 12.752477  ,  -0.67085112, 5.41190447,  -0.48596679, 3.86219028, -10.43610426,   8.54696684,  26.1692981 ])\n",
    "param_grid.append([1., 1., 1., 1., 1., 1., 1., 1.])\n",
    "param_grid.append([ 1.58058048e+02, -1.18886829e+02,  6.01874280e+00, -4.40444318e-02, 1.76085019e+03,  5.31506372e-02,  7.84477603e+00, -1.75345221e+03])\n",
    "param_grid.append([ 7.45420090e+01, -4.17773867e+00,  5.14196774e-04,  3.92699079e+01, 7.99735712e+00, -4.17788453e+02,  5.35821023e+01,  1.43435984e+01])\n",
    "param_grid.append([-2.25719774e+02, -7.45066743e+00,  1.38131154e+00,  5.45286414e+04, -7.13305976e-01, -5.13440990e+02,  7.16388533e+01,  4.88938101e+00])\n",
    "param_grid.append([  42.62237091,  -16.26589619,  -14.89248189,   35.13124029, 7.5846033 , -409.21910021,   56.0709293 ,   31.10053304])\n",
    "param_grid.append([-7.69457408e+01,  3.55148343e+00, -1.07325601e-04,  4.08297529e+01, 1.20378611e+00, -4.13966853e+02,  5.47407122e+01,  2.41457554e+01])\n",
    "counter=0\n",
    "\n",
    "#for i in tqdm(range(len(array_sub))):\n",
    "for i in tqdm(range(10001, 20001)):\n",
    "    counter=0\n",
    "    breath = df_test[df_test['breath_id']==array_sub[i]][['time_step', 'u_in']]\n",
    "    \n",
    "    for p_set in param_grid:\n",
    "        try:\n",
    "            popt, _ = curve_fit(objective, breath.time_step, breath.u_in, p0=p_set, maxfev=5000)\n",
    "            break\n",
    "\n",
    "        except Exception:\n",
    "            counter+=1\n",
    "    \n",
    "    if counter==len(param_grid):\n",
    "        bad_list.append(array_sub[i])"
   ]
  },
  {
   "cell_type": "code",
   "execution_count": 252,
   "metadata": {},
   "outputs": [
    {
     "name": "stdout",
     "output_type": "stream",
     "text": [
      "0 []\n"
     ]
    }
   ],
   "source": [
    "print(len(bad_list), bad_list[:5])"
   ]
  },
  {
   "cell_type": "code",
   "execution_count": 274,
   "metadata": {},
   "outputs": [],
   "source": [
    "b1=df.query('breath_id==69451')[['u_in', 'time_step']]\n",
    "popt, popv = curve_fit(objective, b1.time_step, b1.u_in, maxfev=5000, p0=[ -17.45420090e+01, -15.17773867e+00,  0.,  3.92699079e+01, 20., 0.,  5.35821023e+01,  55.43435984])"
   ]
  },
  {
   "cell_type": "code",
   "execution_count": 275,
   "metadata": {},
   "outputs": [
    {
     "data": {
      "text/plain": [
       "[<matplotlib.lines.Line2D at 0x12da2aa00>]"
      ]
     },
     "execution_count": 275,
     "metadata": {},
     "output_type": "execute_result"
    },
    {
     "data": {
      "image/png": "[encoded data removed]",
      "text/plain": [
       "<Figure size 432x288 with 1 Axes>"
      ]
     },
     "metadata": {
      "needs_background": "light"
     },
     "output_type": "display_data"
    }
   ],
   "source": [
    "fig=plt.figure()\n",
    "plt.plot(b1.time_step, objective(b1.time_step, popt[0], popt[1], popt[2], popt[3], popt[4], popt[5], popt[6], popt[7]), 'b')\n",
    "plt.plot(b1.time_step,b1.u_in,'b--')"
   ]
  },
  {
   "cell_type": "code",
   "execution_count": 276,
   "metadata": {},
   "outputs": [
    {
     "data": {
      "text/plain": [
       "array([-1.12103113e+00, -2.56622064e+01, -4.67431369e+06,  2.15366890e+07,\n",
       "        7.24561473e+01,  8.78820322e-01,  5.30036124e+01,  3.20638456e+01])"
      ]
     },
     "execution_count": 276,
     "metadata": {},
     "output_type": "execute_result"
    }
   ],
   "source": [
    "popt"
   ]
  },
  {
   "cell_type": "code",
   "execution_count": 269,
   "metadata": {},
   "outputs": [
    {
     "data": {
      "text/plain": [
       "[<matplotlib.lines.Line2D at 0x15b94d250>]"
      ]
     },
     "execution_count": 269,
     "metadata": {},
     "output_type": "execute_result"
    },
    {
     "data": {
      "image/png": "[encoded data removed]",
      "text/plain": [
       "<Figure size 432x288 with 1 Axes>"
      ]
     },
     "metadata": {
      "needs_background": "light"
     },
     "output_type": "display_data"
    }
   ],
   "source": [
    "fig=plt.figure()\n",
    "#plt.plot(b1.time_step, objective(b1.time_step, popt[0], popt[1], popt[2], popt[3], popt[4], popt[5], popt[6], popt[7]), 'b')\n",
    "plt.plot(b1.time_step,b1.u_in,'b--')"
   ]
  },
  {
   "cell_type": "code",
   "execution_count": 263,
   "metadata": {},
   "outputs": [
    {
     "name": "stderr",
     "output_type": "stream",
     "text": [
      "100%|██████████| 75450/75450 [25:56:20<00:00,  1.24s/it]     \n"
     ]
    }
   ],
   "source": [
    "def objective(x,a,b,c,d,e,f,g,h):\n",
    "    return a*np.exp(b*x)*np.sin(c*x+d) + e*np.sin(f*x+g) + h\n",
    "\n",
    "\n",
    "# create empty df for appending\n",
    "df_test=df[['u_in', 'time_step', 'breath_id']]\n",
    "bad_list = []\n",
    "best_list = []\n",
    "array_sub=df_test.breath_id.unique()\n",
    "\n",
    "param_grid=[]\n",
    "param_grid.append([ 12.752477  ,  -0.67085112, 5.41190447,  -0.48596679, 3.86219028, -10.43610426,   8.54696684,  26.1692981 ])\n",
    "param_grid.append([1., 1., 1., 1., 1., 1., 1., 1.])\n",
    "param_grid.append([ 1.58058048e+02, -1.18886829e+02,  6.01874280e+00, -4.40444318e-02, 1.76085019e+03,  5.31506372e-02,  7.84477603e+00, -1.75345221e+03])\n",
    "param_grid.append([ 7.45420090e+01, -4.17773867e+00,  5.14196774e-04,  3.92699079e+01, 7.99735712e+00, -4.17788453e+02,  5.35821023e+01,  1.43435984e+01])\n",
    "param_grid.append([-2.25719774e+02, -7.45066743e+00,  1.38131154e+00,  5.45286414e+04, -7.13305976e-01, -5.13440990e+02,  7.16388533e+01,  4.88938101e+00])\n",
    "param_grid.append([  42.62237091,  -16.26589619,  -14.89248189,   35.13124029, 7.5846033 , -409.21910021,   56.0709293 ,   31.10053304])\n",
    "param_grid.append([-7.69457408e+01,  3.55148343e+00, -1.07325601e-04,  4.08297529e+01, 1.20378611e+00, -4.13966853e+02,  5.47407122e+01,  2.41457554e+01])\n",
    "\n",
    "for i in tqdm(range(len(array_sub))):\n",
    "    counter=0\n",
    "    bmae=1000\n",
    "    breath = df_test[df_test['breath_id']==array_sub[i]][['time_step', 'u_in']]\n",
    "    \n",
    "    for p_set in param_grid:\n",
    "        try:\n",
    "            popt, pcov = curve_fit(objective, breath.time_step, breath.u_in, p0=p_set, maxfev=5000)\n",
    "            bestp=popt\n",
    "            break\n",
    "            #new_mae = np.sum(np.abs(objective(breath.time_step, popt[0], popt[1], popt[2], popt[3], popt[4], popt[5], popt[6], popt[7])-breath.u_in))/(breath.shape[0])\n",
    "            #if new_mae<bmae:\n",
    "            #    bmae=new_mae\n",
    "            #    bestp=popt\n",
    "\n",
    "        except Exception:\n",
    "            counter+=1\n",
    "    \n",
    "    if counter==len(param_grid):\n",
    "        bad_list.append(array_sub[i])\n",
    "    else:\n",
    "        best_list.append(bestp)"
   ]
  },
  {
   "cell_type": "code",
   "execution_count": 261,
   "metadata": {},
   "outputs": [
    {
     "data": {
      "text/plain": [
       "[array([ 6.92236529e+01, -4.28445525e+01, -8.68846986e-04, -3.26946231e-01,\n",
       "         6.09549324e+00, -4.28865547e+00,  2.97641376e+00,  2.13714947e+01]),\n",
       " array([ 1.19692174e+00, -4.54530483e+00,  7.10333846e+01, -1.63538511e+00,\n",
       "         5.89197221e+03,  4.16265837e-02,  4.65981678e+00,  5.89725333e+03]),\n",
       " array([16.26325238, -9.42237214, 17.93175182, -1.32695539,  6.16619387,\n",
       "         2.22783989,  2.58223503, 12.51283169])]"
      ]
     },
     "execution_count": 261,
     "metadata": {},
     "output_type": "execute_result"
    }
   ],
   "source": [
    "best_list"
   ]
  },
  {
   "cell_type": "code",
   "execution_count": 264,
   "metadata": {},
   "outputs": [
    {
     "data": {
      "text/plain": [
       "1"
      ]
     },
     "execution_count": 264,
     "metadata": {},
     "output_type": "execute_result"
    }
   ],
   "source": [
    "len(bad_list)"
   ]
  },
  {
   "cell_type": "code",
   "execution_count": 266,
   "metadata": {},
   "outputs": [
    {
     "data": {
      "text/plain": [
       "[69451]"
      ]
     },
     "execution_count": 266,
     "metadata": {},
     "output_type": "execute_result"
    }
   ],
   "source": [
    "bad_list"
   ]
  },
  {
   "cell_type": "code",
   "execution_count": 280,
   "metadata": {},
   "outputs": [
    {
     "name": "stderr",
     "output_type": "stream",
     "text": [
      "100%|██████████| 75450/75450 [03:40<00:00, 342.82it/s]\n"
     ]
    }
   ],
   "source": [
    "array_sub=df_test.breath_id.unique()\n",
    "\n",
    "a1list = []\n",
    "b1list = []\n",
    "c1list = []\n",
    "d1list = []\n",
    "e1list = []\n",
    "f1list = []\n",
    "g1list = []\n",
    "h1list = []\n",
    "mae1list = []\n",
    "\n",
    "counter=0\n",
    "for i in tqdm(range(len(array_sub))):\n",
    "    breath = df_test[df_test['breath_id']==array_sub[i]][['time_step', 'u_in']]\n",
    "    \n",
    "    if array_sub[i]==69451:\n",
    "        bparams=[-1.12103113e+00, -2.56622064e+01, -4.67431369e+06,  2.15366890e+07, 7.24561473e+01,  8.78820322e-01,  5.30036124e+01,  3.20638456e+01]\n",
    "        mae= mean_absolute_error(objective(breath.time_step, bparams[0], bparams[1], bparams[2], bparams[3], bparams[4], bparams[5], bparams[6], bparams[7]),breath.u_in)\n",
    "        a1list += [-1.12103113e+00]*80\n",
    "        b1list += [-2.56622064e+01]*80\n",
    "        c1list += [-4.67431369e+06]*80\n",
    "        d1list += [2.15366890e+07]*80\n",
    "        e1list += [7.24561473e+01]*80\n",
    "        f1list += [8.78820322e-01]*80\n",
    "        g1list += [5.30036124e+01]*80\n",
    "        h1list += [3.20638456e+01]*80\n",
    "        mae1list += [mae]*80\n",
    "        counter=1\n",
    "    else:\n",
    "        bparams=best_list[i-counter]\n",
    "        mae= mean_absolute_error(objective(breath.time_step, bparams[0], bparams[1], bparams[2], bparams[3], bparams[4], bparams[5], bparams[6], bparams[7]),breath.u_in)\n",
    "        a1list += [bparams[0]]*80\n",
    "        b1list += [bparams[1]]*80\n",
    "        c1list += [bparams[2]]*80\n",
    "        d1list += [bparams[3]]*80\n",
    "        e1list += [bparams[4]]*80\n",
    "        f1list += [bparams[5]]*80\n",
    "        g1list += [bparams[6]]*80\n",
    "        h1list += [bparams[7]]*80\n",
    "        mae1list += [mae]*80"
   ]
  },
  {
   "cell_type": "code",
   "execution_count": 52,
   "metadata": {},
   "outputs": [],
   "source": [
    "df2 = pd.read_csv('data/train.csv')\n",
    "#df2 = df2[['id', 'u_in', 'breath_id']]\n",
    "feats2=pd.read_csv('allfeatsv2.csv')\n",
    "df2 = df2.merge(feats2, on='id')"
   ]
  },
  {
   "cell_type": "code",
   "execution_count": 76,
   "metadata": {},
   "outputs": [
    {
     "data": {
      "text/html": [
       "<div>\n",
       "<style scoped>\n",
       "    .dataframe tbody tr th:only-of-type {\n",
       "        vertical-align: middle;\n",
       "    }\n",
       "\n",
       "    .dataframe tbody tr th {\n",
       "        vertical-align: top;\n",
       "    }\n",
       "\n",
       "    .dataframe thead th {\n",
       "        text-align: right;\n",
       "    }\n",
       "</style>\n",
       "<table border=\"1\" class=\"dataframe\">\n",
       "  <thead>\n",
       "    <tr style=\"text-align: right;\">\n",
       "      <th></th>\n",
       "      <th>id</th>\n",
       "      <th>breath_id</th>\n",
       "      <th>R</th>\n",
       "      <th>C</th>\n",
       "      <th>time_step_x</th>\n",
       "      <th>u_in</th>\n",
       "      <th>u_out</th>\n",
       "      <th>pressure</th>\n",
       "      <th>a1</th>\n",
       "      <th>b1</th>\n",
       "      <th>...</th>\n",
       "      <th>time_step_y</th>\n",
       "      <th>rtime</th>\n",
       "      <th>u_in_cumsum</th>\n",
       "      <th>exponent</th>\n",
       "      <th>factor</th>\n",
       "      <th>vf</th>\n",
       "      <th>vt</th>\n",
       "      <th>v</th>\n",
       "      <th>step_id</th>\n",
       "      <th>time_step</th>\n",
       "    </tr>\n",
       "  </thead>\n",
       "  <tbody>\n",
       "    <tr>\n",
       "      <th>0</th>\n",
       "      <td>1</td>\n",
       "      <td>1</td>\n",
       "      <td>20</td>\n",
       "      <td>50</td>\n",
       "      <td>0.000000</td>\n",
       "      <td>0.083334</td>\n",
       "      <td>0</td>\n",
       "      <td>5.837492</td>\n",
       "      <td>69.223653</td>\n",
       "      <td>-42.844553</td>\n",
       "      <td>...</td>\n",
       "      <td>0.000000</td>\n",
       "      <td>0.000</td>\n",
       "      <td>0.083334</td>\n",
       "      <td>-0.000000</td>\n",
       "      <td>1.000000</td>\n",
       "      <td>1.666680</td>\n",
       "      <td>0</td>\n",
       "      <td>1.666680</td>\n",
       "      <td>1</td>\n",
       "      <td>0.000000</td>\n",
       "    </tr>\n",
       "    <tr>\n",
       "      <th>1</th>\n",
       "      <td>2</td>\n",
       "      <td>1</td>\n",
       "      <td>20</td>\n",
       "      <td>50</td>\n",
       "      <td>0.033652</td>\n",
       "      <td>18.383041</td>\n",
       "      <td>0</td>\n",
       "      <td>5.907794</td>\n",
       "      <td>69.223653</td>\n",
       "      <td>-42.844553</td>\n",
       "      <td>...</td>\n",
       "      <td>0.033652</td>\n",
       "      <td>0.034</td>\n",
       "      <td>18.466375</td>\n",
       "      <td>-0.000034</td>\n",
       "      <td>0.999966</td>\n",
       "      <td>369.339938</td>\n",
       "      <td>0</td>\n",
       "      <td>369.339938</td>\n",
       "      <td>2</td>\n",
       "      <td>0.033652</td>\n",
       "    </tr>\n",
       "    <tr>\n",
       "      <th>2</th>\n",
       "      <td>3</td>\n",
       "      <td>1</td>\n",
       "      <td>20</td>\n",
       "      <td>50</td>\n",
       "      <td>0.067514</td>\n",
       "      <td>22.509278</td>\n",
       "      <td>0</td>\n",
       "      <td>7.876254</td>\n",
       "      <td>69.223653</td>\n",
       "      <td>-42.844553</td>\n",
       "      <td>...</td>\n",
       "      <td>0.067514</td>\n",
       "      <td>0.068</td>\n",
       "      <td>40.975653</td>\n",
       "      <td>-0.000068</td>\n",
       "      <td>0.999932</td>\n",
       "      <td>819.568396</td>\n",
       "      <td>0</td>\n",
       "      <td>819.568396</td>\n",
       "      <td>3</td>\n",
       "      <td>0.067514</td>\n",
       "    </tr>\n",
       "    <tr>\n",
       "      <th>3</th>\n",
       "      <td>4</td>\n",
       "      <td>1</td>\n",
       "      <td>20</td>\n",
       "      <td>50</td>\n",
       "      <td>0.101542</td>\n",
       "      <td>22.808822</td>\n",
       "      <td>0</td>\n",
       "      <td>11.742872</td>\n",
       "      <td>69.223653</td>\n",
       "      <td>-42.844553</td>\n",
       "      <td>...</td>\n",
       "      <td>0.101542</td>\n",
       "      <td>0.102</td>\n",
       "      <td>63.784476</td>\n",
       "      <td>-0.000102</td>\n",
       "      <td>0.999898</td>\n",
       "      <td>1275.819053</td>\n",
       "      <td>0</td>\n",
       "      <td>1275.819053</td>\n",
       "      <td>4</td>\n",
       "      <td>0.101542</td>\n",
       "    </tr>\n",
       "    <tr>\n",
       "      <th>4</th>\n",
       "      <td>5</td>\n",
       "      <td>1</td>\n",
       "      <td>20</td>\n",
       "      <td>50</td>\n",
       "      <td>0.135756</td>\n",
       "      <td>25.355850</td>\n",
       "      <td>0</td>\n",
       "      <td>12.234987</td>\n",
       "      <td>69.223653</td>\n",
       "      <td>-42.844553</td>\n",
       "      <td>...</td>\n",
       "      <td>0.135756</td>\n",
       "      <td>0.136</td>\n",
       "      <td>89.140326</td>\n",
       "      <td>-0.000136</td>\n",
       "      <td>0.999864</td>\n",
       "      <td>1783.048558</td>\n",
       "      <td>0</td>\n",
       "      <td>1783.048558</td>\n",
       "      <td>5</td>\n",
       "      <td>0.135756</td>\n",
       "    </tr>\n",
       "  </tbody>\n",
       "</table>\n",
       "<p>5 rows × 34 columns</p>\n",
       "</div>"
      ],
      "text/plain": [
       "   id  breath_id   R   C  time_step_x       u_in  u_out   pressure         a1  \\\n",
       "0   1          1  20  50     0.000000   0.083334      0   5.837492  69.223653   \n",
       "1   2          1  20  50     0.033652  18.383041      0   5.907794  69.223653   \n",
       "2   3          1  20  50     0.067514  22.509278      0   7.876254  69.223653   \n",
       "3   4          1  20  50     0.101542  22.808822      0  11.742872  69.223653   \n",
       "4   5          1  20  50     0.135756  25.355850      0  12.234987  69.223653   \n",
       "\n",
       "          b1  ...  time_step_y  rtime  u_in_cumsum  exponent    factor  \\\n",
       "0 -42.844553  ...     0.000000  0.000     0.083334 -0.000000  1.000000   \n",
       "1 -42.844553  ...     0.033652  0.034    18.466375 -0.000034  0.999966   \n",
       "2 -42.844553  ...     0.067514  0.068    40.975653 -0.000068  0.999932   \n",
       "3 -42.844553  ...     0.101542  0.102    63.784476 -0.000102  0.999898   \n",
       "4 -42.844553  ...     0.135756  0.136    89.140326 -0.000136  0.999864   \n",
       "\n",
       "            vf  vt            v  step_id  time_step  \n",
       "0     1.666680   0     1.666680        1   0.000000  \n",
       "1   369.339938   0   369.339938        2   0.033652  \n",
       "2   819.568396   0   819.568396        3   0.067514  \n",
       "3  1275.819053   0  1275.819053        4   0.101542  \n",
       "4  1783.048558   0  1783.048558        5   0.135756  \n",
       "\n",
       "[5 rows x 34 columns]"
      ]
     },
     "execution_count": 76,
     "metadata": {},
     "output_type": "execute_result"
    }
   ],
   "source": [
    "df2.head()"
   ]
  },
  {
   "cell_type": "code",
   "execution_count": 78,
   "metadata": {},
   "outputs": [
    {
     "data": {
      "text/plain": [
       "[<matplotlib.lines.Line2D at 0x148177460>]"
      ]
     },
     "execution_count": 78,
     "metadata": {},
     "output_type": "execute_result"
    },
    {
     "data": {
      "image/png": "[encoded data removed]",
      "text/plain": [
       "<Figure size 432x288 with 1 Axes>"
      ]
     },
     "metadata": {
      "needs_background": "light"
     },
     "output_type": "display_data"
    }
   ],
   "source": [
    "bad_breath=df2.query('breath_id==69451')\n",
    "fig=plt.figure()\n",
    "plt.plot(bad_breath.time_step, bad_breath.pressure)\n",
    "plt.plot(bad_breath.time_step, bad_breath.u_in)\n",
    "plt.plot(bad_breath.time_step, bad_breath.u_out)"
   ]
  },
  {
   "cell_type": "code",
   "execution_count": 289,
   "metadata": {},
   "outputs": [
    {
     "data": {
      "image/png": "[encoded data removed]",
      "text/plain": [
       "<Figure size 1008x432 with 1 Axes>"
      ]
     },
     "metadata": {
      "needs_background": "light"
     },
     "output_type": "display_data"
    }
   ],
   "source": [
    "fig=plt.figure(figsize=(14,6))\n",
    "sns.histplot(df2.mae1)\n",
    "plt.xlim(0,60)\n",
    "plt.yscale('log')"
   ]
  },
  {
   "cell_type": "code",
   "execution_count": 12,
   "metadata": {},
   "outputs": [
    {
     "data": {
      "text/html": [
       "<div>\n",
       "<style scoped>\n",
       "    .dataframe tbody tr th:only-of-type {\n",
       "        vertical-align: middle;\n",
       "    }\n",
       "\n",
       "    .dataframe tbody tr th {\n",
       "        vertical-align: top;\n",
       "    }\n",
       "\n",
       "    .dataframe thead th {\n",
       "        text-align: right;\n",
       "    }\n",
       "</style>\n",
       "<table border=\"1\" class=\"dataframe\">\n",
       "  <thead>\n",
       "    <tr style=\"text-align: right;\">\n",
       "      <th></th>\n",
       "      <th>id</th>\n",
       "      <th>breath_id</th>\n",
       "      <th>R</th>\n",
       "      <th>C</th>\n",
       "      <th>time_step_x</th>\n",
       "      <th>u_in</th>\n",
       "      <th>u_out</th>\n",
       "      <th>pressure</th>\n",
       "      <th>a1</th>\n",
       "      <th>b1</th>\n",
       "      <th>...</th>\n",
       "      <th>vol</th>\n",
       "      <th>time_step_y</th>\n",
       "      <th>rtime</th>\n",
       "      <th>u_in_cumsum</th>\n",
       "      <th>exponent</th>\n",
       "      <th>factor</th>\n",
       "      <th>vf</th>\n",
       "      <th>vt</th>\n",
       "      <th>v</th>\n",
       "      <th>step_id</th>\n",
       "    </tr>\n",
       "  </thead>\n",
       "  <tbody>\n",
       "    <tr>\n",
       "      <th>0</th>\n",
       "      <td>False</td>\n",
       "      <td>False</td>\n",
       "      <td>False</td>\n",
       "      <td>False</td>\n",
       "      <td>False</td>\n",
       "      <td>False</td>\n",
       "      <td>False</td>\n",
       "      <td>False</td>\n",
       "      <td>False</td>\n",
       "      <td>False</td>\n",
       "      <td>...</td>\n",
       "      <td>False</td>\n",
       "      <td>False</td>\n",
       "      <td>False</td>\n",
       "      <td>False</td>\n",
       "      <td>False</td>\n",
       "      <td>False</td>\n",
       "      <td>False</td>\n",
       "      <td>False</td>\n",
       "      <td>False</td>\n",
       "      <td>False</td>\n",
       "    </tr>\n",
       "    <tr>\n",
       "      <th>1</th>\n",
       "      <td>False</td>\n",
       "      <td>False</td>\n",
       "      <td>False</td>\n",
       "      <td>False</td>\n",
       "      <td>False</td>\n",
       "      <td>False</td>\n",
       "      <td>False</td>\n",
       "      <td>False</td>\n",
       "      <td>False</td>\n",
       "      <td>False</td>\n",
       "      <td>...</td>\n",
       "      <td>False</td>\n",
       "      <td>False</td>\n",
       "      <td>False</td>\n",
       "      <td>False</td>\n",
       "      <td>False</td>\n",
       "      <td>False</td>\n",
       "      <td>False</td>\n",
       "      <td>False</td>\n",
       "      <td>False</td>\n",
       "      <td>False</td>\n",
       "    </tr>\n",
       "    <tr>\n",
       "      <th>2</th>\n",
       "      <td>False</td>\n",
       "      <td>False</td>\n",
       "      <td>False</td>\n",
       "      <td>False</td>\n",
       "      <td>False</td>\n",
       "      <td>False</td>\n",
       "      <td>False</td>\n",
       "      <td>False</td>\n",
       "      <td>False</td>\n",
       "      <td>False</td>\n",
       "      <td>...</td>\n",
       "      <td>False</td>\n",
       "      <td>False</td>\n",
       "      <td>False</td>\n",
       "      <td>False</td>\n",
       "      <td>False</td>\n",
       "      <td>False</td>\n",
       "      <td>False</td>\n",
       "      <td>False</td>\n",
       "      <td>False</td>\n",
       "      <td>False</td>\n",
       "    </tr>\n",
       "    <tr>\n",
       "      <th>3</th>\n",
       "      <td>False</td>\n",
       "      <td>False</td>\n",
       "      <td>False</td>\n",
       "      <td>False</td>\n",
       "      <td>False</td>\n",
       "      <td>False</td>\n",
       "      <td>False</td>\n",
       "      <td>False</td>\n",
       "      <td>False</td>\n",
       "      <td>False</td>\n",
       "      <td>...</td>\n",
       "      <td>False</td>\n",
       "      <td>False</td>\n",
       "      <td>False</td>\n",
       "      <td>False</td>\n",
       "      <td>False</td>\n",
       "      <td>False</td>\n",
       "      <td>False</td>\n",
       "      <td>False</td>\n",
       "      <td>False</td>\n",
       "      <td>False</td>\n",
       "    </tr>\n",
       "    <tr>\n",
       "      <th>4</th>\n",
       "      <td>False</td>\n",
       "      <td>False</td>\n",
       "      <td>False</td>\n",
       "      <td>False</td>\n",
       "      <td>False</td>\n",
       "      <td>False</td>\n",
       "      <td>False</td>\n",
       "      <td>False</td>\n",
       "      <td>False</td>\n",
       "      <td>False</td>\n",
       "      <td>...</td>\n",
       "      <td>False</td>\n",
       "      <td>False</td>\n",
       "      <td>False</td>\n",
       "      <td>False</td>\n",
       "      <td>False</td>\n",
       "      <td>False</td>\n",
       "      <td>False</td>\n",
       "      <td>False</td>\n",
       "      <td>False</td>\n",
       "      <td>False</td>\n",
       "    </tr>\n",
       "    <tr>\n",
       "      <th>...</th>\n",
       "      <td>...</td>\n",
       "      <td>...</td>\n",
       "      <td>...</td>\n",
       "      <td>...</td>\n",
       "      <td>...</td>\n",
       "      <td>...</td>\n",
       "      <td>...</td>\n",
       "      <td>...</td>\n",
       "      <td>...</td>\n",
       "      <td>...</td>\n",
       "      <td>...</td>\n",
       "      <td>...</td>\n",
       "      <td>...</td>\n",
       "      <td>...</td>\n",
       "      <td>...</td>\n",
       "      <td>...</td>\n",
       "      <td>...</td>\n",
       "      <td>...</td>\n",
       "      <td>...</td>\n",
       "      <td>...</td>\n",
       "      <td>...</td>\n",
       "    </tr>\n",
       "    <tr>\n",
       "      <th>6035995</th>\n",
       "      <td>False</td>\n",
       "      <td>False</td>\n",
       "      <td>False</td>\n",
       "      <td>False</td>\n",
       "      <td>False</td>\n",
       "      <td>False</td>\n",
       "      <td>False</td>\n",
       "      <td>False</td>\n",
       "      <td>False</td>\n",
       "      <td>False</td>\n",
       "      <td>...</td>\n",
       "      <td>True</td>\n",
       "      <td>False</td>\n",
       "      <td>False</td>\n",
       "      <td>False</td>\n",
       "      <td>False</td>\n",
       "      <td>False</td>\n",
       "      <td>False</td>\n",
       "      <td>True</td>\n",
       "      <td>True</td>\n",
       "      <td>False</td>\n",
       "    </tr>\n",
       "    <tr>\n",
       "      <th>6035996</th>\n",
       "      <td>False</td>\n",
       "      <td>False</td>\n",
       "      <td>False</td>\n",
       "      <td>False</td>\n",
       "      <td>False</td>\n",
       "      <td>False</td>\n",
       "      <td>False</td>\n",
       "      <td>False</td>\n",
       "      <td>False</td>\n",
       "      <td>False</td>\n",
       "      <td>...</td>\n",
       "      <td>True</td>\n",
       "      <td>False</td>\n",
       "      <td>False</td>\n",
       "      <td>False</td>\n",
       "      <td>False</td>\n",
       "      <td>False</td>\n",
       "      <td>False</td>\n",
       "      <td>True</td>\n",
       "      <td>True</td>\n",
       "      <td>False</td>\n",
       "    </tr>\n",
       "    <tr>\n",
       "      <th>6035997</th>\n",
       "      <td>False</td>\n",
       "      <td>False</td>\n",
       "      <td>False</td>\n",
       "      <td>False</td>\n",
       "      <td>False</td>\n",
       "      <td>False</td>\n",
       "      <td>False</td>\n",
       "      <td>False</td>\n",
       "      <td>False</td>\n",
       "      <td>False</td>\n",
       "      <td>...</td>\n",
       "      <td>True</td>\n",
       "      <td>False</td>\n",
       "      <td>False</td>\n",
       "      <td>False</td>\n",
       "      <td>False</td>\n",
       "      <td>False</td>\n",
       "      <td>False</td>\n",
       "      <td>True</td>\n",
       "      <td>True</td>\n",
       "      <td>False</td>\n",
       "    </tr>\n",
       "    <tr>\n",
       "      <th>6035998</th>\n",
       "      <td>False</td>\n",
       "      <td>False</td>\n",
       "      <td>False</td>\n",
       "      <td>False</td>\n",
       "      <td>False</td>\n",
       "      <td>False</td>\n",
       "      <td>False</td>\n",
       "      <td>False</td>\n",
       "      <td>False</td>\n",
       "      <td>False</td>\n",
       "      <td>...</td>\n",
       "      <td>True</td>\n",
       "      <td>False</td>\n",
       "      <td>False</td>\n",
       "      <td>False</td>\n",
       "      <td>False</td>\n",
       "      <td>False</td>\n",
       "      <td>False</td>\n",
       "      <td>True</td>\n",
       "      <td>True</td>\n",
       "      <td>False</td>\n",
       "    </tr>\n",
       "    <tr>\n",
       "      <th>6035999</th>\n",
       "      <td>False</td>\n",
       "      <td>False</td>\n",
       "      <td>False</td>\n",
       "      <td>False</td>\n",
       "      <td>False</td>\n",
       "      <td>False</td>\n",
       "      <td>False</td>\n",
       "      <td>False</td>\n",
       "      <td>False</td>\n",
       "      <td>False</td>\n",
       "      <td>...</td>\n",
       "      <td>True</td>\n",
       "      <td>False</td>\n",
       "      <td>False</td>\n",
       "      <td>False</td>\n",
       "      <td>False</td>\n",
       "      <td>False</td>\n",
       "      <td>False</td>\n",
       "      <td>True</td>\n",
       "      <td>True</td>\n",
       "      <td>False</td>\n",
       "    </tr>\n",
       "  </tbody>\n",
       "</table>\n",
       "<p>6036000 rows × 33 columns</p>\n",
       "</div>"
      ],
      "text/plain": [
       "            id  breath_id      R      C  time_step_x   u_in  u_out  pressure  \\\n",
       "0        False      False  False  False        False  False  False     False   \n",
       "1        False      False  False  False        False  False  False     False   \n",
       "2        False      False  False  False        False  False  False     False   \n",
       "3        False      False  False  False        False  False  False     False   \n",
       "4        False      False  False  False        False  False  False     False   \n",
       "...        ...        ...    ...    ...          ...    ...    ...       ...   \n",
       "6035995  False      False  False  False        False  False  False     False   \n",
       "6035996  False      False  False  False        False  False  False     False   \n",
       "6035997  False      False  False  False        False  False  False     False   \n",
       "6035998  False      False  False  False        False  False  False     False   \n",
       "6035999  False      False  False  False        False  False  False     False   \n",
       "\n",
       "            a1     b1  ...    vol  time_step_y  rtime  u_in_cumsum  exponent  \\\n",
       "0        False  False  ...  False        False  False        False     False   \n",
       "1        False  False  ...  False        False  False        False     False   \n",
       "2        False  False  ...  False        False  False        False     False   \n",
       "3        False  False  ...  False        False  False        False     False   \n",
       "4        False  False  ...  False        False  False        False     False   \n",
       "...        ...    ...  ...    ...          ...    ...          ...       ...   \n",
       "6035995  False  False  ...   True        False  False        False     False   \n",
       "6035996  False  False  ...   True        False  False        False     False   \n",
       "6035997  False  False  ...   True        False  False        False     False   \n",
       "6035998  False  False  ...   True        False  False        False     False   \n",
       "6035999  False  False  ...   True        False  False        False     False   \n",
       "\n",
       "         factor     vf     vt      v  step_id  \n",
       "0         False  False  False  False    False  \n",
       "1         False  False  False  False    False  \n",
       "2         False  False  False  False    False  \n",
       "3         False  False  False  False    False  \n",
       "4         False  False  False  False    False  \n",
       "...         ...    ...    ...    ...      ...  \n",
       "6035995   False  False   True   True    False  \n",
       "6035996   False  False   True   True    False  \n",
       "6035997   False  False   True   True    False  \n",
       "6035998   False  False   True   True    False  \n",
       "6035999   False  False   True   True    False  \n",
       "\n",
       "[6036000 rows x 33 columns]"
      ]
     },
     "execution_count": 12,
     "metadata": {},
     "output_type": "execute_result"
    }
   ],
   "source": [
    "df2.isna()"
   ]
  },
  {
   "cell_type": "code",
   "execution_count": 56,
   "metadata": {},
   "outputs": [
    {
     "data": {
      "text/html": [
       "<div>\n",
       "<style scoped>\n",
       "    .dataframe tbody tr th:only-of-type {\n",
       "        vertical-align: middle;\n",
       "    }\n",
       "\n",
       "    .dataframe tbody tr th {\n",
       "        vertical-align: top;\n",
       "    }\n",
       "\n",
       "    .dataframe thead th {\n",
       "        text-align: right;\n",
       "    }\n",
       "</style>\n",
       "<table border=\"1\" class=\"dataframe\">\n",
       "  <thead>\n",
       "    <tr style=\"text-align: right;\">\n",
       "      <th></th>\n",
       "      <th>id</th>\n",
       "      <th>breath_id</th>\n",
       "      <th>R</th>\n",
       "      <th>C</th>\n",
       "      <th>time_step_x</th>\n",
       "      <th>u_in</th>\n",
       "      <th>u_out</th>\n",
       "      <th>pressure</th>\n",
       "      <th>a1</th>\n",
       "      <th>b1</th>\n",
       "      <th>...</th>\n",
       "      <th>vol</th>\n",
       "      <th>time_step_y</th>\n",
       "      <th>rtime</th>\n",
       "      <th>u_in_cumsum</th>\n",
       "      <th>exponent</th>\n",
       "      <th>factor</th>\n",
       "      <th>vf</th>\n",
       "      <th>vt</th>\n",
       "      <th>v</th>\n",
       "      <th>step_id</th>\n",
       "    </tr>\n",
       "  </thead>\n",
       "  <tbody>\n",
       "  </tbody>\n",
       "</table>\n",
       "<p>0 rows × 33 columns</p>\n",
       "</div>"
      ],
      "text/plain": [
       "Empty DataFrame\n",
       "Columns: [id, breath_id, R, C, time_step_x, u_in, u_out, pressure, a1, b1, c1, d1, e1, f1, g1, h1, mae1, utm1, utm2, utm3, asc, std, mean, vol, time_step_y, rtime, u_in_cumsum, exponent, factor, vf, vt, v, step_id]\n",
       "Index: []\n",
       "\n",
       "[0 rows x 33 columns]"
      ]
     },
     "execution_count": 56,
     "metadata": {},
     "output_type": "execute_result"
    }
   ],
   "source": [
    "df2[df2.isnull().any(axis=1)]"
   ]
  },
  {
   "cell_type": "code",
   "execution_count": 54,
   "metadata": {},
   "outputs": [
    {
     "name": "stderr",
     "output_type": "stream",
     "text": [
      "/var/folders/fx/jr2m6h953_103f1b248p3r6h0000gn/T/ipykernel_32028/1063134689.py:2: SettingWithCopyWarning: \n",
      "A value is trying to be set on a copy of a slice from a DataFrame.\n",
      "Try using .loc[row_indexer,col_indexer] = value instead\n",
      "\n",
      "See the caveats in the documentation: https://pandas.pydata.org/pandas-docs/stable/user_guide/indexing.html#returning-a-view-versus-a-copy\n",
      "  df2.query('u_out==0')['vol'] = df2.query('u_out==0').groupby('breath_id')['vol'].cumsum()\n",
      "/var/folders/fx/jr2m6h953_103f1b248p3r6h0000gn/T/ipykernel_32028/1063134689.py:3: SettingWithCopyWarning: \n",
      "A value is trying to be set on a copy of a slice from a DataFrame.\n",
      "Try using .loc[row_indexer,col_indexer] = value instead\n",
      "\n",
      "See the caveats in the documentation: https://pandas.pydata.org/pandas-docs/stable/user_guide/indexing.html#returning-a-view-versus-a-copy\n",
      "  df2.query('u_out==1')['vol'] = df2.query('u_out==0').groupby('breath_id')['vol'].max()\n"
     ]
    }
   ],
   "source": [
    "df2['vol'] = df['time_step'] * df['u_in']\n",
    "df2.query('u_out==0')['vol'] = df2.query('u_out==0').groupby('breath_id')['vol'].cumsum()\n",
    "df2.query('u_out==1')['vol'] = df2.query('u_out==0').groupby('breath_id')['vol'].max()\n",
    "df2['u_in_cumsum'] = (df2['u_in']).groupby(df2['breath_id']).cumsum()\n",
    "df2['vf']=(df2['u_in_cumsum']*df2['R'])/df2['factor']\n",
    "df2['vt']=0\n",
    "df2['v']=df2['vf']+df2['vt']"
   ]
  },
  {
   "cell_type": "code",
   "execution_count": 65,
   "metadata": {},
   "outputs": [],
   "source": [
    "df2['time_step'] = df3.time_step"
   ]
  },
  {
   "cell_type": "code",
   "execution_count": 67,
   "metadata": {},
   "outputs": [],
   "source": [
    "new_vol=[]\n",
    "for b_id in df2.breath_id.unique():\n",
    "    breath=df2[df2['breath_id']==b_id]\n",
    "    #print(df2.columns)\n",
    "    vol_arr1 = breath.query('u_out==0').time_step * breath.query('u_out==0').u_in\n",
    "    vol_arr2 = vol_arr1.cumsum()\n",
    "    new_vol += list(vol_arr2.to_numpy())\n",
    "    new_vol += [max(list(vol_arr2))]*(80-len(vol_arr2.to_numpy()))\n"
   ]
  },
  {
   "cell_type": "code",
   "execution_count": 69,
   "metadata": {},
   "outputs": [
    {
     "data": {
      "text/plain": [
       "[254.87492522634864,\n",
       " 270.09996625648284,\n",
       " 285.1969508856488,\n",
       " 300.21025479041714,\n",
       " 314.9550129597609,\n",
       " 314.9550129597609,\n",
       " 314.9550129597609,\n",
       " 314.9550129597609,\n",
       " 314.9550129597609,\n",
       " 314.9550129597609]"
      ]
     },
     "execution_count": 69,
     "metadata": {},
     "output_type": "execute_result"
    }
   ],
   "source": [
    "new_vol[25:35]"
   ]
  },
  {
   "cell_type": "code",
   "execution_count": 70,
   "metadata": {},
   "outputs": [],
   "source": [
    "df2['vol']=new_vol"
   ]
  },
  {
   "cell_type": "code",
   "execution_count": 72,
   "metadata": {},
   "outputs": [
    {
     "data": {
      "text/plain": [
       "Index(['id', 'breath_id', 'R', 'C', 'time_step_x', 'u_in', 'u_out', 'pressure',\n",
       "       'a1', 'b1', 'c1', 'd1', 'e1', 'f1', 'g1', 'h1', 'mae1', 'utm1', 'utm2',\n",
       "       'utm3', 'asc', 'std', 'mean', 'vol', 'time_step_y', 'rtime',\n",
       "       'u_in_cumsum', 'exponent', 'factor', 'vf', 'vt', 'v', 'step_id',\n",
       "       'time_step'],\n",
       "      dtype='object')"
      ]
     },
     "execution_count": 72,
     "metadata": {},
     "output_type": "execute_result"
    }
   ],
   "source": [
    "df2.columns"
   ]
  },
  {
   "cell_type": "code",
   "execution_count": 32,
   "metadata": {},
   "outputs": [
    {
     "data": {
      "text/plain": [
       "0    0.000000\n",
       "1    0.033652\n",
       "2    0.067514\n",
       "3    0.101542\n",
       "4    0.135756\n",
       "Name: time_step_y, dtype: float64"
      ]
     },
     "execution_count": 32,
     "metadata": {},
     "output_type": "execute_result"
    }
   ],
   "source": [
    "df2.time_step_y.head()"
   ]
  },
  {
   "cell_type": "code",
   "execution_count": 58,
   "metadata": {},
   "outputs": [
    {
     "data": {
      "text/plain": [
       "Index(['id', 'breath_id', 'R', 'C', 'time_step_x', 'u_in', 'u_out', 'pressure',\n",
       "       'a1', 'b1', 'c1', 'd1', 'e1', 'f1', 'g1', 'h1', 'mae1', 'utm1', 'utm2',\n",
       "       'utm3', 'asc', 'std', 'mean', 'vol', 'time_step_y', 'rtime',\n",
       "       'u_in_cumsum', 'exponent', 'factor', 'vf', 'vt', 'v', 'step_id'],\n",
       "      dtype='object')"
      ]
     },
     "execution_count": 58,
     "metadata": {},
     "output_type": "execute_result"
    }
   ],
   "source": [
    "df2.columns"
   ]
  },
  {
   "cell_type": "code",
   "execution_count": 73,
   "metadata": {},
   "outputs": [],
   "source": [
    "savedf = df2.drop(['breath_id', 'R', 'C', 'pressure', 'u_in', 'u_out', 'time_step_x', 'time_step_y', 'time_step'], axis=1)"
   ]
  },
  {
   "cell_type": "code",
   "execution_count": 74,
   "metadata": {},
   "outputs": [
    {
     "data": {
      "text/plain": [
       "Index(['id', 'a1', 'b1', 'c1', 'd1', 'e1', 'f1', 'g1', 'h1', 'mae1', 'utm1',\n",
       "       'utm2', 'utm3', 'asc', 'std', 'mean', 'vol', 'rtime', 'u_in_cumsum',\n",
       "       'exponent', 'factor', 'vf', 'vt', 'v', 'step_id'],\n",
       "      dtype='object')"
      ]
     },
     "execution_count": 74,
     "metadata": {},
     "output_type": "execute_result"
    }
   ],
   "source": [
    "savedf.columns"
   ]
  },
  {
   "cell_type": "code",
   "execution_count": 75,
   "metadata": {},
   "outputs": [],
   "source": [
    "savedf.to_csv('all_featsv3.csv', index=False)"
   ]
  },
  {
   "cell_type": "code",
   "execution_count": 50,
   "metadata": {},
   "outputs": [],
   "source": [
    "df3 = pd.read_csv('data/train.csv')\n",
    "#df2 = df2[['id', 'u_in', 'breath_id']]\n",
    "allfeats=pd.read_csv('all_featsv1.csv')\n",
    "df3 = df3.merge(allfeats, on='id')"
   ]
  },
  {
   "cell_type": "code",
   "execution_count": 51,
   "metadata": {},
   "outputs": [
    {
     "data": {
      "text/plain": [
       "Index(['id', 'breath_id', 'R', 'C', 'time_step', 'u_in', 'u_out', 'pressure',\n",
       "       'a1', 'b1', 'c1', 'd1', 'e1', 'f1', 'g1', 'h1', 'mae1', 'utm1', 'utm2',\n",
       "       'utm3', 'asc', 'std', 'mean', 'vol', 'rtime', 'u_in_cumsum', 'exponent',\n",
       "       'factor', 'vf', 'vt', 'v', 'step_id'],\n",
       "      dtype='object')"
      ]
     },
     "execution_count": 51,
     "metadata": {},
     "output_type": "execute_result"
    }
   ],
   "source": [
    "df3.columns"
   ]
  },
  {
   "cell_type": "code",
   "execution_count": null,
   "metadata": {},
   "outputs": [],
   "source": [
    "df3 = df3.drop()"
   ]
  },
  {
   "cell_type": "code",
   "execution_count": 48,
   "metadata": {},
   "outputs": [
    {
     "data": {
      "text/plain": [
       "LinearRegression()"
      ]
     },
     "execution_count": 48,
     "metadata": {},
     "output_type": "execute_result"
    }
   ],
   "source": [
    "linreg=LinearRegression()\n",
    "linreg.fit(df3.query('u_out==0').drop('pressure',axis=1), df3.query('u_out==0').pressure)"
   ]
  },
  {
   "cell_type": "code",
   "execution_count": 44,
   "metadata": {},
   "outputs": [
    {
     "data": {
      "text/plain": [
       "array([ 6.64184732,  5.39314525,  6.28377147, ..., 23.43824017,\n",
       "       23.46780009, 23.63850639])"
      ]
     },
     "execution_count": 44,
     "metadata": {},
     "output_type": "execute_result"
    }
   ],
   "source": [
    "linreg.predict(df3.query('u_out==0').drop('pressure',axis=1))"
   ]
  },
  {
   "cell_type": "code",
   "execution_count": 49,
   "metadata": {},
   "outputs": [
    {
     "data": {
      "text/plain": [
       "3.675515000699156"
      ]
     },
     "execution_count": 49,
     "metadata": {},
     "output_type": "execute_result"
    }
   ],
   "source": [
    "mean_absolute_error(linreg.predict(df3.query('u_out==0').drop('pressure',axis=1)), df3.query('u_out==0').pressure)"
   ]
  },
  {
   "cell_type": "code",
   "execution_count": 47,
   "metadata": {},
   "outputs": [
    {
     "name": "stderr",
     "output_type": "stream",
     "text": [
      "/var/folders/fx/jr2m6h953_103f1b248p3r6h0000gn/T/ipykernel_32028/2952411960.py:1: SettingWithCopyWarning: \n",
      "A value is trying to be set on a copy of a slice from a DataFrame.\n",
      "Try using .loc[row_indexer,col_indexer] = value instead\n",
      "\n",
      "See the caveats in the documentation: https://pandas.pydata.org/pandas-docs/stable/user_guide/indexing.html#returning-a-view-versus-a-copy\n",
      "  df3.query('u_out==1').vol = 0\n"
     ]
    }
   ],
   "source": [
    "df3.query('u_out==1').vol = 0"
   ]
  },
  {
   "cell_type": "code",
   "execution_count": 136,
   "metadata": {},
   "outputs": [
    {
     "name": "stderr",
     "output_type": "stream",
     "text": [
      "/var/folders/fx/jr2m6h953_103f1b248p3r6h0000gn/T/ipykernel_32028/2066872310.py:5: UserWarning: FixedFormatter should only be used together with FixedLocator\n",
      "  ax.set_xticklabels(['0', '2000', '4000', '6000', '8000', '10000', '12000'], fontsize=16)\n"
     ]
    },
    {
     "data": {
      "image/png": "[encoded data removed]",
      "text/plain": [
       "<Figure size 1152x288 with 1 Axes>"
      ]
     },
     "metadata": {
      "needs_background": "light"
     },
     "output_type": "display_data"
    }
   ],
   "source": [
    "fig=plt.figure(figsize=(16,4))\n",
    "ax=sns.countplot(data=df2, y='R', hue='C', palette='Set2')\n",
    "#ax.set_yticklabels(['0', '0.2', '0.4', '0.6', '0.8', '1.0', '1.2'], fontsize=14)\n",
    "\n",
    "ax.set_xticklabels(['0', '2000', '4000', '6000', '8000', '10000', '12000'], fontsize=16)\n",
    "ax.set_yticklabels(['5', '20', '50'], fontsize=16)\n",
    "ax.set_ylabel(r'Resistance R in $cmH_2O/l/s$', fontsize=18)\n",
    "ax.set_xlabel(r'# of samples', fontsize=18)\n",
    "plt.xlim(0,1200000)\n",
    "#ax.set_title(r'Number of samples by Resistance and Compliance', fontsize=18)\n",
    "\n",
    "ax.spines['right'].set_visible(False)\n",
    "ax.spines['left'].set_visible(False)\n",
    "ax.spines['top'].set_visible(False)\n",
    "\n",
    "#plt.ylim(0,1200000)\n",
    "ax.legend(title=r'C in $ml/cmH_2O$', fontsize=14)\n",
    "plt.tight_layout()\n",
    "plt.savefig('countvert.png', transparent=True)"
   ]
  },
  {
   "cell_type": "code",
   "execution_count": 100,
   "metadata": {},
   "outputs": [],
   "source": [
    "df2['bstepid']=df2.id.apply(lambda x: x%80)"
   ]
  },
  {
   "cell_type": "code",
   "execution_count": 115,
   "metadata": {},
   "outputs": [
    {
     "name": "stderr",
     "output_type": "stream",
     "text": [
      "/var/folders/fx/jr2m6h953_103f1b248p3r6h0000gn/T/ipykernel_32028/2146316776.py:5: UserWarning: FixedFormatter should only be used together with FixedLocator\n",
      "  ax.set_yticklabels(['0', '5', '10', '15', '20', '25', '30', '35'], fontsize=14)\n"
     ]
    },
    {
     "data": {
      "image/png": "[encoded data removed]",
      "text/plain": [
       "<Figure size 432x288 with 1 Axes>"
      ]
     },
     "metadata": {
      "needs_background": "light"
     },
     "output_type": "display_data"
    }
   ],
   "source": [
    "ax=sns.lineplot(data=df2.query('C==50 & R==5'), x='bstepid', y='pressure', ci='sd')\n",
    "plt.ylim(0,35)\n",
    "plt.xlim(0,80)\n",
    "plt.xticks([0, 80/3, 80/3*2, 80])\n",
    "ax.set_yticklabels(['0', '5', '10', '15', '20', '25', '30', '35'], fontsize=14)\n",
    "ax.set_xticklabels(['0', '1.0', '2.0', '3.0'], fontsize=14)\n",
    "ax.set_xlabel(r'time in $s$', fontsize=16)\n",
    "ax.set_ylabel(r'pressure in $cmH_2O$', fontsize=16);"
   ]
  },
  {
   "cell_type": "code",
   "execution_count": 114,
   "metadata": {},
   "outputs": [
    {
     "name": "stderr",
     "output_type": "stream",
     "text": [
      "/var/folders/fx/jr2m6h953_103f1b248p3r6h0000gn/T/ipykernel_32028/4033320514.py:5: UserWarning: FixedFormatter should only be used together with FixedLocator\n",
      "  ax.set_yticklabels(['0', '5', '10', '15', '20', '25', '30', '35'], fontsize=14)\n"
     ]
    },
    {
     "data": {
      "image/png": "[encoded data removed]",
      "text/plain": [
       "<Figure size 432x288 with 1 Axes>"
      ]
     },
     "metadata": {
      "needs_background": "light"
     },
     "output_type": "display_data"
    }
   ],
   "source": [
    "ax=sns.lineplot(data=df2.query('C==20 & R==20'), x='bstepid', y='pressure', ci='sd')\n",
    "plt.ylim(0,35)\n",
    "plt.xlim(0,80)\n",
    "plt.xticks([0, 80/3, 80/3*2, 80])\n",
    "ax.set_yticklabels(['0', '5', '10', '15', '20', '25', '30', '35'], fontsize=14)\n",
    "ax.set_xticklabels(['0', '1.0', '2.0', '3.0'], fontsize=14)\n",
    "ax.set_xlabel(r'time in $s$', fontsize=16)\n",
    "ax.set_ylabel(r'pressure in $cmH_2O$', fontsize=16);"
   ]
  },
  {
   "cell_type": "code",
   "execution_count": 116,
   "metadata": {},
   "outputs": [
    {
     "name": "stderr",
     "output_type": "stream",
     "text": [
      "/var/folders/fx/jr2m6h953_103f1b248p3r6h0000gn/T/ipykernel_32028/4258415805.py:5: UserWarning: FixedFormatter should only be used together with FixedLocator\n",
      "  ax.set_yticklabels(['0', '5', '10', '15', '20', '25', '30', '35'], fontsize=14)\n"
     ]
    },
    {
     "data": {
      "image/png": "[encoded data removed]",
      "text/plain": [
       "<Figure size 432x288 with 1 Axes>"
      ]
     },
     "metadata": {
      "needs_background": "light"
     },
     "output_type": "display_data"
    }
   ],
   "source": [
    "ax=sns.lineplot(data=df2.query('C==10 & R==50'), x='bstepid', y='pressure', ci='sd')\n",
    "plt.ylim(0,35)\n",
    "plt.xlim(0,80)\n",
    "plt.xticks([0, 80/3, 80/3*2, 80])\n",
    "ax.set_yticklabels(['0', '5', '10', '15', '20', '25', '30', '35'], fontsize=14)\n",
    "ax.set_xticklabels(['0', '1.0', '2.0', '3.0'], fontsize=14)\n",
    "ax.set_xlabel(r'time in $s$', fontsize=16)\n",
    "ax.set_ylabel(r'pressure in $cmH_2O$', fontsize=16);"
   ]
  },
  {
   "cell_type": "code",
   "execution_count": null,
   "metadata": {},
   "outputs": [],
   "source": [
    "pred_imp = []\n",
    "for val in y_pred:\n",
    "    if val>100.:\n",
    "        pred_imp.append(100.)\n",
    "    elif val<0.:\n",
    "        pred_imp.append(0.)\n",
    "    else:\n",
    "        pred_imp.append(val)"
   ]
  },
  {
   "cell_type": "markdown",
   "metadata": {},
   "source": [
    "plots with shared axis"
   ]
  },
  {
   "cell_type": "code",
   "execution_count": 158,
   "metadata": {},
   "outputs": [
    {
     "name": "stderr",
     "output_type": "stream",
     "text": [
      "/var/folders/fx/jr2m6h953_103f1b248p3r6h0000gn/T/ipykernel_32028/1428575350.py:19: UserWarning: FixedFormatter should only be used together with FixedLocator\n",
      "  ax1.set_yticklabels(['0', '5', '10', '15', '20', '25', '30', '35'], fontsize=16)\n"
     ]
    },
    {
     "data": {
      "image/png": "[encoded data removed]",
      "text/plain": [
       "<Figure size 1872x432 with 3 Axes>"
      ]
     },
     "metadata": {
      "needs_background": "light"
     },
     "output_type": "display_data"
    }
   ],
   "source": [
    "tick_fsize=\n",
    "\n",
    "linecol='orangered'\n",
    "\n",
    "fig=plt.figure(figsize=(26,6))\n",
    "ax1 = plt.subplot(131)\n",
    "sns.lineplot(data=df2.query('C==50 & R==5'), x='bstepid', y='pressure', ci='sd', color=linecol, linewidth=4.0)\n",
    "plt.ylim(0,35)\n",
    "plt.xlim(0,80)\n",
    "\n",
    "ax1.spines['right'].set_visible(False)\n",
    "#ax.spines['left'].set_visible(False)\n",
    "ax1.spines['top'].set_visible(False)\n",
    "\n",
    "ax2 = plt.subplot(132, sharey=ax1, sharex=ax1)\n",
    "sns.lineplot(data=df2.query('C==20 & R==20'), x='bstepid', y='pressure', ci='sd', color=linecol, linewidth=4.0)\n",
    "#plt.axis('off')\n",
    "ax1.set_ylabel(r'pressure in $cmH_2O$', fontsize=16)\n",
    "plt.xticks([0, 80/3, 80/3*2, 80])\n",
    "ax1.set_xticklabels(['0', '1.0', '2.0', '3.0'], fontsize=16)\n",
    "ax1.set_yticklabels(['0', '5', '10', '15', '20', '25', '30', '35'], fontsize=16)\n",
    "ax1.set_xlabel(r'time in $s$', fontsize=18);\n",
    "\n",
    "ax2.spines['right'].set_visible(False)\n",
    "ax2.spines['left'].set_visible(False)\n",
    "ax2.spines['top'].set_visible(False)\n",
    "ax2.get_yaxis().set_visible(False)\n",
    "\n",
    "plt.xticks([0, 80/3, 80/3*2, 80])\n",
    "ax2.set_xticklabels(['0', '1.0', '2.0', '3.0'], fontsize=16)\n",
    "ax2.set_xlabel(r'time in $s$', fontsize=18)\n",
    "\n",
    "ax3 = plt.subplot(133, sharey=ax1, sharex=ax1)\n",
    "sns.lineplot(data=df2.query('C==10 & R==50'), x='bstepid', y='pressure', ci='sd', color=linecol, linewidth=4.0)\n",
    "ax3.get_yaxis().set_visible(False)\n",
    "\n",
    "ax3.spines['right'].set_visible(False)\n",
    "ax3.spines['left'].set_visible(False)\n",
    "ax3.spines['top'].set_visible(False)\n",
    "\n",
    "plt.xticks([0, 80/3, 80/3*2, 80])\n",
    "ax3.set_xticklabels(['0', '1.0', '2.0', '3.0'], fontsize=16)\n",
    "ax3.set_xlabel(r'time in $s$', fontsize=18)\n",
    "\n",
    "plt.tight_layout()\n",
    "plt.savefig('threeshapes.png', transparent=True)"
   ]
  },
  {
   "cell_type": "code",
   "execution_count": null,
   "metadata": {},
   "outputs": [],
   "source": []
  }
 ],
 "metadata": {
  "interpreter": {
   "hash": "3657b9df7b609a8dd9a92f7e98e07be93c6e394cffc29c50cc33e5d3697f27ee"
  },
  "kernelspec": {
   "display_name": "Python 3.9.4 ('.venv': venv)",
   "language": "python",
   "name": "python3"
  },
  "language_info": {
   "codemirror_mode": {
    "name": "ipython",
    "version": 3
   },
   "file_extension": ".py",
   "mimetype": "text/x-python",
   "name": "python",
   "nbconvert_exporter": "python",
   "pygments_lexer": "ipython3",
   "version": "3.9.4"
  },
  "orig_nbformat": 4
 },
 "nbformat": 4,
 "nbformat_minor": 2
}
